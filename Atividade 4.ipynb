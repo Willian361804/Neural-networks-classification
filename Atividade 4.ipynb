{
 "cells": [
  {
   "cell_type": "code",
   "execution_count": 1,
   "metadata": {
    "colab": {
     "base_uri": "https://localhost:8080/"
    },
    "executionInfo": {
     "elapsed": 3756,
     "status": "ok",
     "timestamp": 1671052032412,
     "user": {
      "displayName": "Willian Alecsander Farias Costa",
      "userId": "06668607203888333009"
     },
     "user_tz": 180
    },
    "id": "JOkwKVn5Uqhu",
    "outputId": "fabbce24-2c6d-4e8c-8659-f70b43d0b0b2"
   },
   "outputs": [
    {
     "name": "stdout",
     "output_type": "stream",
     "text": [
      "2.9.2\n"
     ]
    }
   ],
   "source": [
    "from tensorflow import keras\n",
    "import tensorflow as tf\n",
    "print(tf.__version__)"
   ]
  },
  {
   "cell_type": "code",
   "execution_count": 2,
   "metadata": {
    "executionInfo": {
     "elapsed": 283,
     "status": "ok",
     "timestamp": 1671052060834,
     "user": {
      "displayName": "Willian Alecsander Farias Costa",
      "userId": "06668607203888333009"
     },
     "user_tz": 180
    },
    "id": "unzJt3ZsiwiN"
   },
   "outputs": [],
   "source": [
    "from tensorflow.keras import layers"
   ]
  },
  {
   "cell_type": "code",
   "execution_count": 3,
   "metadata": {
    "executionInfo": {
     "elapsed": 1200,
     "status": "ok",
     "timestamp": 1671052063592,
     "user": {
      "displayName": "Willian Alecsander Farias Costa",
      "userId": "06668607203888333009"
     },
     "user_tz": 180
    },
    "id": "gRyIo5kJVKBT"
   },
   "outputs": [],
   "source": [
    "import numpy as np\n",
    "import matplotlib.pyplot as plt\n",
    "import pandas as pd\n",
    "from sklearn.model_selection import train_test_split"
   ]
  },
  {
   "cell_type": "markdown",
   "metadata": {
    "id": "QGNuf6ChU7r4"
   },
   "source": [
    "## Aquisição e visualização da base de dados"
   ]
  },
  {
   "cell_type": "markdown",
   "metadata": {
    "id": "3dCZAVhAHpR9"
   },
   "source": [
    "Este é problema de classificação que consiste em definir a qualidade de um carro com base nas características. "
   ]
  },
  {
   "cell_type": "markdown",
   "metadata": {
    "id": "ArtTXPV9Ihni"
   },
   "source": [
    "Existem 4 classes (ruim, médio, bom e muito bom) e 6 atributos (se foi muito comprado, manutencao recente, número de portas, número de pessoas, tamanho do bagageiro e segurança)"
   ]
  },
  {
   "cell_type": "code",
   "execution_count": null,
   "metadata": {
    "id": "Nc88NPVptfLs"
   },
   "outputs": [],
   "source": [
    "!wget https://archive.ics.uci.edu/ml/machine-learning-databases/car/car.data"
   ]
  },
  {
   "cell_type": "code",
   "execution_count": 5,
   "metadata": {
    "executionInfo": {
     "elapsed": 11,
     "status": "ok",
     "timestamp": 1671052077622,
     "user": {
      "displayName": "Willian Alecsander Farias Costa",
      "userId": "06668607203888333009"
     },
     "user_tz": 180
    },
    "id": "weY_BAOTt1PD"
   },
   "outputs": [],
   "source": [
    "car = pd.read_csv('car.data', header=None)"
   ]
  },
  {
   "cell_type": "code",
   "execution_count": 6,
   "metadata": {
    "executionInfo": {
     "elapsed": 254,
     "status": "ok",
     "timestamp": 1671052079763,
     "user": {
      "displayName": "Willian Alecsander Farias Costa",
      "userId": "06668607203888333009"
     },
     "user_tz": 180
    },
    "id": "ZDi6bu9CuAbt"
   },
   "outputs": [],
   "source": [
    "car.columns = ['compras','manutencao','numero_de_portas','numero_de_pessoas','tamanho_bagageiro','seguranca','qualidade']"
   ]
  },
  {
   "cell_type": "code",
   "execution_count": 7,
   "metadata": {
    "colab": {
     "base_uri": "https://localhost:8080/",
     "height": 206
    },
    "executionInfo": {
     "elapsed": 27,
     "status": "ok",
     "timestamp": 1671052081999,
     "user": {
      "displayName": "Willian Alecsander Farias Costa",
      "userId": "06668607203888333009"
     },
     "user_tz": 180
    },
    "id": "TLfB-01d07X2",
    "outputId": "96b9e4e7-0d8a-4ca7-a7bd-869fdedc3d9a"
   },
   "outputs": [
    {
     "data": {
      "text/html": [
       "\n",
       "  <div id=\"df-7a1b3bf5-e72b-48e3-8386-d2193b729135\">\n",
       "    <div class=\"colab-df-container\">\n",
       "      <div>\n",
       "<style scoped>\n",
       "    .dataframe tbody tr th:only-of-type {\n",
       "        vertical-align: middle;\n",
       "    }\n",
       "\n",
       "    .dataframe tbody tr th {\n",
       "        vertical-align: top;\n",
       "    }\n",
       "\n",
       "    .dataframe thead th {\n",
       "        text-align: right;\n",
       "    }\n",
       "</style>\n",
       "<table border=\"1\" class=\"dataframe\">\n",
       "  <thead>\n",
       "    <tr style=\"text-align: right;\">\n",
       "      <th></th>\n",
       "      <th>compras</th>\n",
       "      <th>manutencao</th>\n",
       "      <th>numero_de_portas</th>\n",
       "      <th>numero_de_pessoas</th>\n",
       "      <th>tamanho_bagageiro</th>\n",
       "      <th>seguranca</th>\n",
       "      <th>qualidade</th>\n",
       "    </tr>\n",
       "  </thead>\n",
       "  <tbody>\n",
       "    <tr>\n",
       "      <th>0</th>\n",
       "      <td>vhigh</td>\n",
       "      <td>vhigh</td>\n",
       "      <td>2</td>\n",
       "      <td>2</td>\n",
       "      <td>small</td>\n",
       "      <td>low</td>\n",
       "      <td>unacc</td>\n",
       "    </tr>\n",
       "    <tr>\n",
       "      <th>1</th>\n",
       "      <td>vhigh</td>\n",
       "      <td>vhigh</td>\n",
       "      <td>2</td>\n",
       "      <td>2</td>\n",
       "      <td>small</td>\n",
       "      <td>med</td>\n",
       "      <td>unacc</td>\n",
       "    </tr>\n",
       "    <tr>\n",
       "      <th>2</th>\n",
       "      <td>vhigh</td>\n",
       "      <td>vhigh</td>\n",
       "      <td>2</td>\n",
       "      <td>2</td>\n",
       "      <td>small</td>\n",
       "      <td>high</td>\n",
       "      <td>unacc</td>\n",
       "    </tr>\n",
       "    <tr>\n",
       "      <th>3</th>\n",
       "      <td>vhigh</td>\n",
       "      <td>vhigh</td>\n",
       "      <td>2</td>\n",
       "      <td>2</td>\n",
       "      <td>med</td>\n",
       "      <td>low</td>\n",
       "      <td>unacc</td>\n",
       "    </tr>\n",
       "    <tr>\n",
       "      <th>4</th>\n",
       "      <td>vhigh</td>\n",
       "      <td>vhigh</td>\n",
       "      <td>2</td>\n",
       "      <td>2</td>\n",
       "      <td>med</td>\n",
       "      <td>med</td>\n",
       "      <td>unacc</td>\n",
       "    </tr>\n",
       "  </tbody>\n",
       "</table>\n",
       "</div>\n",
       "      <button class=\"colab-df-convert\" onclick=\"convertToInteractive('df-7a1b3bf5-e72b-48e3-8386-d2193b729135')\"\n",
       "              title=\"Convert this dataframe to an interactive table.\"\n",
       "              style=\"display:none;\">\n",
       "        \n",
       "  <svg xmlns=\"http://www.w3.org/2000/svg\" height=\"24px\"viewBox=\"0 0 24 24\"\n",
       "       width=\"24px\">\n",
       "    <path d=\"M0 0h24v24H0V0z\" fill=\"none\"/>\n",
       "    <path d=\"M18.56 5.44l.94 2.06.94-2.06 2.06-.94-2.06-.94-.94-2.06-.94 2.06-2.06.94zm-11 1L8.5 8.5l.94-2.06 2.06-.94-2.06-.94L8.5 2.5l-.94 2.06-2.06.94zm10 10l.94 2.06.94-2.06 2.06-.94-2.06-.94-.94-2.06-.94 2.06-2.06.94z\"/><path d=\"M17.41 7.96l-1.37-1.37c-.4-.4-.92-.59-1.43-.59-.52 0-1.04.2-1.43.59L10.3 9.45l-7.72 7.72c-.78.78-.78 2.05 0 2.83L4 21.41c.39.39.9.59 1.41.59.51 0 1.02-.2 1.41-.59l7.78-7.78 2.81-2.81c.8-.78.8-2.07 0-2.86zM5.41 20L4 18.59l7.72-7.72 1.47 1.35L5.41 20z\"/>\n",
       "  </svg>\n",
       "      </button>\n",
       "      \n",
       "  <style>\n",
       "    .colab-df-container {\n",
       "      display:flex;\n",
       "      flex-wrap:wrap;\n",
       "      gap: 12px;\n",
       "    }\n",
       "\n",
       "    .colab-df-convert {\n",
       "      background-color: #E8F0FE;\n",
       "      border: none;\n",
       "      border-radius: 50%;\n",
       "      cursor: pointer;\n",
       "      display: none;\n",
       "      fill: #1967D2;\n",
       "      height: 32px;\n",
       "      padding: 0 0 0 0;\n",
       "      width: 32px;\n",
       "    }\n",
       "\n",
       "    .colab-df-convert:hover {\n",
       "      background-color: #E2EBFA;\n",
       "      box-shadow: 0px 1px 2px rgba(60, 64, 67, 0.3), 0px 1px 3px 1px rgba(60, 64, 67, 0.15);\n",
       "      fill: #174EA6;\n",
       "    }\n",
       "\n",
       "    [theme=dark] .colab-df-convert {\n",
       "      background-color: #3B4455;\n",
       "      fill: #D2E3FC;\n",
       "    }\n",
       "\n",
       "    [theme=dark] .colab-df-convert:hover {\n",
       "      background-color: #434B5C;\n",
       "      box-shadow: 0px 1px 3px 1px rgba(0, 0, 0, 0.15);\n",
       "      filter: drop-shadow(0px 1px 2px rgba(0, 0, 0, 0.3));\n",
       "      fill: #FFFFFF;\n",
       "    }\n",
       "  </style>\n",
       "\n",
       "      <script>\n",
       "        const buttonEl =\n",
       "          document.querySelector('#df-7a1b3bf5-e72b-48e3-8386-d2193b729135 button.colab-df-convert');\n",
       "        buttonEl.style.display =\n",
       "          google.colab.kernel.accessAllowed ? 'block' : 'none';\n",
       "\n",
       "        async function convertToInteractive(key) {\n",
       "          const element = document.querySelector('#df-7a1b3bf5-e72b-48e3-8386-d2193b729135');\n",
       "          const dataTable =\n",
       "            await google.colab.kernel.invokeFunction('convertToInteractive',\n",
       "                                                     [key], {});\n",
       "          if (!dataTable) return;\n",
       "\n",
       "          const docLinkHtml = 'Like what you see? Visit the ' +\n",
       "            '<a target=\"_blank\" href=https://colab.research.google.com/notebooks/data_table.ipynb>data table notebook</a>'\n",
       "            + ' to learn more about interactive tables.';\n",
       "          element.innerHTML = '';\n",
       "          dataTable['output_type'] = 'display_data';\n",
       "          await google.colab.output.renderOutput(dataTable, element);\n",
       "          const docLink = document.createElement('div');\n",
       "          docLink.innerHTML = docLinkHtml;\n",
       "          element.appendChild(docLink);\n",
       "        }\n",
       "      </script>\n",
       "    </div>\n",
       "  </div>\n",
       "  "
      ],
      "text/plain": [
       "  compras manutencao numero_de_portas numero_de_pessoas tamanho_bagageiro  \\\n",
       "0   vhigh      vhigh                2                 2             small   \n",
       "1   vhigh      vhigh                2                 2             small   \n",
       "2   vhigh      vhigh                2                 2             small   \n",
       "3   vhigh      vhigh                2                 2               med   \n",
       "4   vhigh      vhigh                2                 2               med   \n",
       "\n",
       "  seguranca qualidade  \n",
       "0       low     unacc  \n",
       "1       med     unacc  \n",
       "2      high     unacc  \n",
       "3       low     unacc  \n",
       "4       med     unacc  "
      ]
     },
     "execution_count": 7,
     "metadata": {},
     "output_type": "execute_result"
    }
   ],
   "source": [
    "car.head()"
   ]
  },
  {
   "cell_type": "markdown",
   "metadata": {
    "id": "g_EZNROe0-CP"
   },
   "source": [
    "## Pré-processamento da base de dados"
   ]
  },
  {
   "cell_type": "code",
   "execution_count": 8,
   "metadata": {
    "executionInfo": {
     "elapsed": 383,
     "status": "ok",
     "timestamp": 1671052088326,
     "user": {
      "displayName": "Willian Alecsander Farias Costa",
      "userId": "06668607203888333009"
     },
     "user_tz": 180
    },
    "id": "ZuJqOmtqz2Ga"
   },
   "outputs": [],
   "source": [
    "car['qualidade'].replace({'unacc':0, 'acc':1, 'good':2, 'vgood':3}, inplace=True)"
   ]
  },
  {
   "cell_type": "code",
   "execution_count": 9,
   "metadata": {
    "executionInfo": {
     "elapsed": 21,
     "status": "ok",
     "timestamp": 1671052090043,
     "user": {
      "displayName": "Willian Alecsander Farias Costa",
      "userId": "06668607203888333009"
     },
     "user_tz": 180
    },
    "id": "chlB63w5w1Xc"
   },
   "outputs": [],
   "source": [
    "X = car.iloc[:,:-1]\n",
    "Y = car.iloc[:,-1]"
   ]
  },
  {
   "cell_type": "code",
   "execution_count": 10,
   "metadata": {
    "executionInfo": {
     "elapsed": 271,
     "status": "ok",
     "timestamp": 1671052092687,
     "user": {
      "displayName": "Willian Alecsander Farias Costa",
      "userId": "06668607203888333009"
     },
     "user_tz": 180
    },
    "id": "122y1ja9xwBy"
   },
   "outputs": [],
   "source": [
    "X = pd.get_dummies(X)"
   ]
  },
  {
   "cell_type": "code",
   "execution_count": 11,
   "metadata": {
    "executionInfo": {
     "elapsed": 504,
     "status": "ok",
     "timestamp": 1671052095302,
     "user": {
      "displayName": "Willian Alecsander Farias Costa",
      "userId": "06668607203888333009"
     },
     "user_tz": 180
    },
    "id": "bkbWmkCv2hlB"
   },
   "outputs": [],
   "source": [
    "## Usando a técnica SMOTE para resolver o problema de dados desbalanceados\n",
    "from imblearn.over_sampling import SMOTE"
   ]
  },
  {
   "cell_type": "code",
   "execution_count": null,
   "metadata": {
    "id": "J_tLZuGW4DoU"
   },
   "outputs": [],
   "source": [
    "strategy = {0:1250, 1:1250, 2:1250, 3:1250}\n",
    "oversample = SMOTE(sampling_strategy=strategy)\n",
    "X, Y = oversample.fit_resample(X, Y)"
   ]
  },
  {
   "cell_type": "code",
   "execution_count": 13,
   "metadata": {
    "executionInfo": {
     "elapsed": 327,
     "status": "ok",
     "timestamp": 1671052101091,
     "user": {
      "displayName": "Willian Alecsander Farias Costa",
      "userId": "06668607203888333009"
     },
     "user_tz": 180
    },
    "id": "Ma5409Sw6vir"
   },
   "outputs": [],
   "source": [
    "X[X > 1] = 1"
   ]
  },
  {
   "cell_type": "markdown",
   "metadata": {
    "id": "RSGLFCYP7rLA"
   },
   "source": [
    "## Separação da base em conjuntos de treino e teste "
   ]
  },
  {
   "cell_type": "code",
   "execution_count": 14,
   "metadata": {
    "executionInfo": {
     "elapsed": 254,
     "status": "ok",
     "timestamp": 1671052107252,
     "user": {
      "displayName": "Willian Alecsander Farias Costa",
      "userId": "06668607203888333009"
     },
     "user_tz": 180
    },
    "id": "qgg95mQ77yJ-"
   },
   "outputs": [],
   "source": [
    "X_train, X_test, y_train, y_test = train_test_split(X, Y, test_size=0.2, random_state=93)"
   ]
  },
  {
   "cell_type": "code",
   "execution_count": null,
   "metadata": {
    "id": "KrNbIZ0f78Vu"
   },
   "outputs": [],
   "source": [
    "print(X_train.shape)\n",
    "print(X_test.shape)\n",
    "print(y_train.shape)\n",
    "print(y_test.shape)"
   ]
  },
  {
   "cell_type": "markdown",
   "metadata": {
    "id": "1NXaoIu2gyDH"
   },
   "source": [
    "## Definição dos dados marcados e métricas de performance"
   ]
  },
  {
   "cell_type": "markdown",
   "metadata": {
    "id": "7kcoGmfz9QyO"
   },
   "source": [
    "Vamos fazer o ajuste para One-Hot dos dados das classes. Temos 4 classes (0,1,2 e 3)"
   ]
  },
  {
   "cell_type": "code",
   "execution_count": 16,
   "metadata": {
    "executionInfo": {
     "elapsed": 17,
     "status": "ok",
     "timestamp": 1671052114190,
     "user": {
      "displayName": "Willian Alecsander Farias Costa",
      "userId": "06668607203888333009"
     },
     "user_tz": 180
    },
    "id": "Xzs-VX578vfw"
   },
   "outputs": [],
   "source": [
    "from tensorflow.keras.utils import to_categorical"
   ]
  },
  {
   "cell_type": "code",
   "execution_count": 17,
   "metadata": {
    "executionInfo": {
     "elapsed": 265,
     "status": "ok",
     "timestamp": 1671052119477,
     "user": {
      "displayName": "Willian Alecsander Farias Costa",
      "userId": "06668607203888333009"
     },
     "user_tz": 180
    },
    "id": "hOw0mYKc9AXD"
   },
   "outputs": [],
   "source": [
    "y_train = to_categorical(y_train)\n",
    "y_test = to_categorical(y_test)"
   ]
  },
  {
   "cell_type": "code",
   "execution_count": 18,
   "metadata": {
    "colab": {
     "base_uri": "https://localhost:8080/"
    },
    "executionInfo": {
     "elapsed": 14,
     "status": "ok",
     "timestamp": 1671052121500,
     "user": {
      "displayName": "Willian Alecsander Farias Costa",
      "userId": "06668607203888333009"
     },
     "user_tz": 180
    },
    "id": "PIq4TY3k9E62",
    "outputId": "7a6dcfae-0f1f-4330-c658-04528ad1a494"
   },
   "outputs": [
    {
     "name": "stdout",
     "output_type": "stream",
     "text": [
      "(4000, 4)\n",
      "(1000, 4)\n"
     ]
    }
   ],
   "source": [
    "print(y_train.shape)\n",
    "print(y_test.shape)"
   ]
  },
  {
   "cell_type": "markdown",
   "metadata": {
    "id": "itlG4Xg9Dt9b"
   },
   "source": [
    "A métrica de performance que será usada é a acurácia"
   ]
  },
  {
   "cell_type": "markdown",
   "metadata": {
    "id": "I2P_TTOmDb5Q"
   },
   "source": [
    "## Escolha e construção da arquitetura profunda"
   ]
  },
  {
   "cell_type": "markdown",
   "metadata": {
    "id": "ZZD2Sg727B2V"
   },
   "source": [
    "Foi usada a arquitetura de redes MultiLayer Perceptron. "
   ]
  },
  {
   "cell_type": "markdown",
   "metadata": {
    "id": "ErPQEkT-A9zD"
   },
   "source": [
    "Para o primeiro experimento, foi usada apenas 1 camada escondida com 13 neurônios. A função de ativação foi a função sigmóide.\n"
   ]
  },
  {
   "cell_type": "markdown",
   "metadata": {
    "id": "Hy58oLBNBAV4"
   },
   "source": [
    "Para o segundo experimento, foram usadas duas camadas escondidas (uma com 15 neurônios e outra com 9 neurônios). A função de ativação nas duas camadas foi a função relu. "
   ]
  },
  {
   "cell_type": "markdown",
   "metadata": {
    "id": "I2XmdOjtBFhS"
   },
   "source": [
    "Para o terceiro experimento, foram usadas três camadas escondidas (com 16, 12 e 8 neurônios respectivamente). A função de ativação nas três camadas foi a função relu. "
   ]
  },
  {
   "cell_type": "markdown",
   "metadata": {
    "id": "3al9j9hSBMAW"
   },
   "source": [
    "O número de neurônios nas camadas de entradas dos três experimentos foi de 21, já que este é o número de atributos do problema. Já o número de neurônios nas camadas de saída foi de 4, já que este é o número de classes do problema."
   ]
  },
  {
   "cell_type": "markdown",
   "metadata": {
    "id": "qCfPK7lPBY1v"
   },
   "source": [
    "## Execução dos experimentos"
   ]
  },
  {
   "cell_type": "markdown",
   "metadata": {
    "id": "6v2bZMcMHcwj"
   },
   "source": [
    "### Experimento 1"
   ]
  },
  {
   "cell_type": "code",
   "execution_count": 19,
   "metadata": {
    "executionInfo": {
     "elapsed": 655,
     "status": "ok",
     "timestamp": 1671052131302,
     "user": {
      "displayName": "Willian Alecsander Farias Costa",
      "userId": "06668607203888333009"
     },
     "user_tz": 180
    },
    "id": "AqXpzdYhglaT"
   },
   "outputs": [],
   "source": [
    "mod = keras.Sequential(name=\"MLP_1\")\n",
    "mod.add(keras.Input(shape=(21,))) \n",
    "mod.add(layers.Dense(13, activation=\"sigmoid\"))\n",
    "mod.add(layers.Dense(4, activation=\"softmax\"))"
   ]
  },
  {
   "cell_type": "code",
   "execution_count": 20,
   "metadata": {
    "colab": {
     "base_uri": "https://localhost:8080/"
    },
    "executionInfo": {
     "elapsed": 432,
     "status": "ok",
     "timestamp": 1671052133999,
     "user": {
      "displayName": "Willian Alecsander Farias Costa",
      "userId": "06668607203888333009"
     },
     "user_tz": 180
    },
    "id": "J-KmbmSZ-D4X",
    "outputId": "4a89130b-e842-4644-d2f8-4c77540f523c"
   },
   "outputs": [
    {
     "name": "stdout",
     "output_type": "stream",
     "text": [
      "Model: \"MLP_1\"\n",
      "_________________________________________________________________\n",
      " Layer (type)                Output Shape              Param #   \n",
      "=================================================================\n",
      " dense (Dense)               (None, 13)                286       \n",
      "                                                                 \n",
      " dense_1 (Dense)             (None, 4)                 56        \n",
      "                                                                 \n",
      "=================================================================\n",
      "Total params: 342\n",
      "Trainable params: 342\n",
      "Non-trainable params: 0\n",
      "_________________________________________________________________\n"
     ]
    }
   ],
   "source": [
    "mod.summary()"
   ]
  },
  {
   "cell_type": "code",
   "execution_count": 21,
   "metadata": {
    "executionInfo": {
     "elapsed": 277,
     "status": "ok",
     "timestamp": 1671052140864,
     "user": {
      "displayName": "Willian Alecsander Farias Costa",
      "userId": "06668607203888333009"
     },
     "user_tz": 180
    },
    "id": "nFCmSIxR-QFf"
   },
   "outputs": [],
   "source": [
    "mod.compile(loss='categorical_crossentropy', optimizer='sgd', metrics=['accuracy'])"
   ]
  },
  {
   "cell_type": "code",
   "execution_count": 22,
   "metadata": {
    "colab": {
     "base_uri": "https://localhost:8080/"
    },
    "executionInfo": {
     "elapsed": 11113,
     "status": "ok",
     "timestamp": 1671052153520,
     "user": {
      "displayName": "Willian Alecsander Farias Costa",
      "userId": "06668607203888333009"
     },
     "user_tz": 180
    },
    "id": "EykYWyh9-a31",
    "outputId": "7e70bed8-26ad-436e-c7f0-35075a1c840f"
   },
   "outputs": [
    {
     "name": "stdout",
     "output_type": "stream",
     "text": [
      "Epoch 1/10\n",
      "450/450 [==============================] - 1s 2ms/step - loss: 1.4059 - accuracy: 0.3036 - val_loss: 1.3532 - val_accuracy: 0.3925\n",
      "Epoch 2/10\n",
      "450/450 [==============================] - 1s 2ms/step - loss: 1.3268 - accuracy: 0.4825 - val_loss: 1.3138 - val_accuracy: 0.4725\n",
      "Epoch 3/10\n",
      "450/450 [==============================] - 1s 2ms/step - loss: 1.2796 - accuracy: 0.5689 - val_loss: 1.2629 - val_accuracy: 0.5475\n",
      "Epoch 4/10\n",
      "450/450 [==============================] - 1s 2ms/step - loss: 1.2239 - accuracy: 0.6147 - val_loss: 1.2061 - val_accuracy: 0.5825\n",
      "Epoch 5/10\n",
      "450/450 [==============================] - 1s 2ms/step - loss: 1.1601 - accuracy: 0.6514 - val_loss: 1.1432 - val_accuracy: 0.6150\n",
      "Epoch 6/10\n",
      "450/450 [==============================] - 1s 2ms/step - loss: 1.0888 - accuracy: 0.6800 - val_loss: 1.0765 - val_accuracy: 0.6375\n",
      "Epoch 7/10\n",
      "450/450 [==============================] - 1s 2ms/step - loss: 1.0155 - accuracy: 0.7008 - val_loss: 1.0072 - val_accuracy: 0.6625\n",
      "Epoch 8/10\n",
      "450/450 [==============================] - 1s 3ms/step - loss: 0.9439 - accuracy: 0.7306 - val_loss: 0.9451 - val_accuracy: 0.6625\n",
      "Epoch 9/10\n",
      "450/450 [==============================] - 1s 2ms/step - loss: 0.8784 - accuracy: 0.7483 - val_loss: 0.8814 - val_accuracy: 0.7250\n",
      "Epoch 10/10\n",
      "450/450 [==============================] - 1s 2ms/step - loss: 0.8179 - accuracy: 0.7689 - val_loss: 0.8293 - val_accuracy: 0.7425\n"
     ]
    },
    {
     "data": {
      "text/plain": [
       "<keras.callbacks.History at 0x7f8cfaa26dc0>"
      ]
     },
     "execution_count": 22,
     "metadata": {},
     "output_type": "execute_result"
    }
   ],
   "source": [
    "# Primeira execução\n",
    "mod.fit(X_train, y_train, epochs=10, batch_size=8, validation_split=0.1)"
   ]
  },
  {
   "cell_type": "code",
   "execution_count": 23,
   "metadata": {
    "colab": {
     "base_uri": "https://localhost:8080/"
    },
    "executionInfo": {
     "elapsed": 648,
     "status": "ok",
     "timestamp": 1671052161076,
     "user": {
      "displayName": "Willian Alecsander Farias Costa",
      "userId": "06668607203888333009"
     },
     "user_tz": 180
    },
    "id": "m38gHYuALqJ8",
    "outputId": "d6ab0a20-7599-4312-b2f9-0e9bc737cd51"
   },
   "outputs": [
    {
     "name": "stdout",
     "output_type": "stream",
     "text": [
      "125/125 [==============================] - 0s 1ms/step - loss: 0.8047 - accuracy: 0.7670\n",
      "Accuracy: 76.70\n"
     ]
    }
   ],
   "source": [
    "_, accuracy = mod.evaluate(X_test, y_test, batch_size=8)\n",
    "print('Accuracy: %.2f' % (accuracy*100))"
   ]
  },
  {
   "cell_type": "code",
   "execution_count": 24,
   "metadata": {
    "colab": {
     "base_uri": "https://localhost:8080/"
    },
    "executionInfo": {
     "elapsed": 11436,
     "status": "ok",
     "timestamp": 1671052177680,
     "user": {
      "displayName": "Willian Alecsander Farias Costa",
      "userId": "06668607203888333009"
     },
     "user_tz": 180
    },
    "id": "WyoagUTiEd4F",
    "outputId": "761fc446-066c-4fc1-bf74-82bbeb4afe03"
   },
   "outputs": [
    {
     "name": "stdout",
     "output_type": "stream",
     "text": [
      "Epoch 1/10\n",
      "450/450 [==============================] - 2s 3ms/step - loss: 0.7653 - accuracy: 0.7906 - val_loss: 0.7787 - val_accuracy: 0.8075\n",
      "Epoch 2/10\n",
      "450/450 [==============================] - 1s 3ms/step - loss: 0.7173 - accuracy: 0.8197 - val_loss: 0.7344 - val_accuracy: 0.8125\n",
      "Epoch 3/10\n",
      "450/450 [==============================] - 2s 3ms/step - loss: 0.6742 - accuracy: 0.8333 - val_loss: 0.6943 - val_accuracy: 0.8300\n",
      "Epoch 4/10\n",
      "450/450 [==============================] - 2s 4ms/step - loss: 0.6356 - accuracy: 0.8492 - val_loss: 0.6565 - val_accuracy: 0.8450\n",
      "Epoch 5/10\n",
      "450/450 [==============================] - 1s 3ms/step - loss: 0.6008 - accuracy: 0.8647 - val_loss: 0.6234 - val_accuracy: 0.8550\n",
      "Epoch 6/10\n",
      "450/450 [==============================] - 1s 2ms/step - loss: 0.5690 - accuracy: 0.8725 - val_loss: 0.5943 - val_accuracy: 0.8525\n",
      "Epoch 7/10\n",
      "450/450 [==============================] - 1s 2ms/step - loss: 0.5410 - accuracy: 0.8831 - val_loss: 0.5644 - val_accuracy: 0.8725\n",
      "Epoch 8/10\n",
      "450/450 [==============================] - 1s 2ms/step - loss: 0.5148 - accuracy: 0.8853 - val_loss: 0.5384 - val_accuracy: 0.8800\n",
      "Epoch 9/10\n",
      "450/450 [==============================] - 1s 2ms/step - loss: 0.4914 - accuracy: 0.8861 - val_loss: 0.5134 - val_accuracy: 0.8950\n",
      "Epoch 10/10\n",
      "450/450 [==============================] - 1s 2ms/step - loss: 0.4703 - accuracy: 0.8903 - val_loss: 0.4918 - val_accuracy: 0.9025\n"
     ]
    },
    {
     "data": {
      "text/plain": [
       "<keras.callbacks.History at 0x7f8cf7fa9ee0>"
      ]
     },
     "execution_count": 24,
     "metadata": {},
     "output_type": "execute_result"
    }
   ],
   "source": [
    "# Segunda execução\n",
    "mod.fit(X_train, y_train, epochs=10, batch_size=8, validation_split=0.1)"
   ]
  },
  {
   "cell_type": "code",
   "execution_count": 25,
   "metadata": {
    "colab": {
     "base_uri": "https://localhost:8080/"
    },
    "executionInfo": {
     "elapsed": 319,
     "status": "ok",
     "timestamp": 1671052184037,
     "user": {
      "displayName": "Willian Alecsander Farias Costa",
      "userId": "06668607203888333009"
     },
     "user_tz": 180
    },
    "id": "UMFhMkCzLvxU",
    "outputId": "e7972e60-e10f-49f9-ab76-8e53217f821b"
   },
   "outputs": [
    {
     "name": "stdout",
     "output_type": "stream",
     "text": [
      "125/125 [==============================] - 0s 1ms/step - loss: 0.4695 - accuracy: 0.8910\n",
      "Accuracy: 89.10\n"
     ]
    }
   ],
   "source": [
    "_, accuracy = mod.evaluate(X_test, y_test, batch_size=8)\n",
    "print('Accuracy: %.2f' % (accuracy*100))"
   ]
  },
  {
   "cell_type": "code",
   "execution_count": 26,
   "metadata": {
    "colab": {
     "base_uri": "https://localhost:8080/"
    },
    "executionInfo": {
     "elapsed": 10553,
     "status": "ok",
     "timestamp": 1671052196880,
     "user": {
      "displayName": "Willian Alecsander Farias Costa",
      "userId": "06668607203888333009"
     },
     "user_tz": 180
    },
    "id": "F30RLnLjEfi2",
    "outputId": "d409f4d5-81d0-436c-cca6-7e4870fa8dbe"
   },
   "outputs": [
    {
     "name": "stdout",
     "output_type": "stream",
     "text": [
      "Epoch 1/10\n",
      "450/450 [==============================] - 1s 2ms/step - loss: 0.4512 - accuracy: 0.8967 - val_loss: 0.4721 - val_accuracy: 0.9025\n",
      "Epoch 2/10\n",
      "450/450 [==============================] - 1s 2ms/step - loss: 0.4332 - accuracy: 0.8994 - val_loss: 0.4557 - val_accuracy: 0.8950\n",
      "Epoch 3/10\n",
      "450/450 [==============================] - 1s 2ms/step - loss: 0.4172 - accuracy: 0.8981 - val_loss: 0.4392 - val_accuracy: 0.8975\n",
      "Epoch 4/10\n",
      "450/450 [==============================] - 1s 2ms/step - loss: 0.4024 - accuracy: 0.9003 - val_loss: 0.4212 - val_accuracy: 0.9075\n",
      "Epoch 5/10\n",
      "450/450 [==============================] - 1s 2ms/step - loss: 0.3890 - accuracy: 0.9061 - val_loss: 0.4085 - val_accuracy: 0.9075\n",
      "Epoch 6/10\n",
      "450/450 [==============================] - 1s 2ms/step - loss: 0.3762 - accuracy: 0.9108 - val_loss: 0.3949 - val_accuracy: 0.9175\n",
      "Epoch 7/10\n",
      "450/450 [==============================] - 1s 2ms/step - loss: 0.3649 - accuracy: 0.9150 - val_loss: 0.3842 - val_accuracy: 0.9075\n",
      "Epoch 8/10\n",
      "450/450 [==============================] - 1s 2ms/step - loss: 0.3542 - accuracy: 0.9131 - val_loss: 0.3719 - val_accuracy: 0.9300\n",
      "Epoch 9/10\n",
      "450/450 [==============================] - 1s 2ms/step - loss: 0.3443 - accuracy: 0.9158 - val_loss: 0.3606 - val_accuracy: 0.9325\n",
      "Epoch 10/10\n",
      "450/450 [==============================] - 1s 2ms/step - loss: 0.3351 - accuracy: 0.9203 - val_loss: 0.3516 - val_accuracy: 0.9300\n"
     ]
    },
    {
     "data": {
      "text/plain": [
       "<keras.callbacks.History at 0x7f8cf7fdbf70>"
      ]
     },
     "execution_count": 26,
     "metadata": {},
     "output_type": "execute_result"
    }
   ],
   "source": [
    "# Terceira execução\n",
    "mod.fit(X_train, y_train, epochs=10, batch_size=8, validation_split=0.1)"
   ]
  },
  {
   "cell_type": "code",
   "execution_count": 27,
   "metadata": {
    "colab": {
     "base_uri": "https://localhost:8080/"
    },
    "executionInfo": {
     "elapsed": 666,
     "status": "ok",
     "timestamp": 1671052199358,
     "user": {
      "displayName": "Willian Alecsander Farias Costa",
      "userId": "06668607203888333009"
     },
     "user_tz": 180
    },
    "id": "eCLhxZFs_Ex2",
    "outputId": "07dc3179-11f4-47d2-9c46-ff06179beb4e"
   },
   "outputs": [
    {
     "name": "stdout",
     "output_type": "stream",
     "text": [
      "125/125 [==============================] - 0s 1ms/step - loss: 0.3359 - accuracy: 0.9060\n",
      "Accuracy: 90.60\n"
     ]
    }
   ],
   "source": [
    "_, accuracy = mod.evaluate(X_test, y_test, batch_size=8)\n",
    "print('Accuracy: %.2f' % (accuracy*100))"
   ]
  },
  {
   "cell_type": "markdown",
   "metadata": {
    "id": "M2gKq18ACd6k"
   },
   "source": [
    "Média da acurácia nas três execuções: 85,46%"
   ]
  },
  {
   "cell_type": "markdown",
   "metadata": {
    "id": "gbjhl4tfDgF0"
   },
   "source": [
    "Desvio padrão da acurácia nas três execuções: 7,63"
   ]
  },
  {
   "cell_type": "markdown",
   "metadata": {
    "id": "2CqywNysHkf_"
   },
   "source": [
    "### Experimento 2"
   ]
  },
  {
   "cell_type": "code",
   "execution_count": 28,
   "metadata": {
    "executionInfo": {
     "elapsed": 285,
     "status": "ok",
     "timestamp": 1671052356127,
     "user": {
      "displayName": "Willian Alecsander Farias Costa",
      "userId": "06668607203888333009"
     },
     "user_tz": 180
    },
    "id": "F3gQWE_AD5bC"
   },
   "outputs": [],
   "source": [
    "mod2 = keras.Sequential(name=\"MLP_2\")\n",
    "mod2.add(keras.Input(shape=(21,))) \n",
    "mod2.add(layers.Dense(15, activation=\"relu\"))\n",
    "mod2.add(layers.Dense(9, activation=\"relu\"))\n",
    "mod2.add(layers.Dense(4, activation=\"softmax\"))"
   ]
  },
  {
   "cell_type": "code",
   "execution_count": 29,
   "metadata": {
    "colab": {
     "base_uri": "https://localhost:8080/"
    },
    "executionInfo": {
     "elapsed": 41,
     "status": "ok",
     "timestamp": 1671052358974,
     "user": {
      "displayName": "Willian Alecsander Farias Costa",
      "userId": "06668607203888333009"
     },
     "user_tz": 180
    },
    "id": "-KGkLAI1GGmO",
    "outputId": "3958a4de-67de-4049-8229-7b7f6f54f6d4"
   },
   "outputs": [
    {
     "name": "stdout",
     "output_type": "stream",
     "text": [
      "Model: \"MLP_2\"\n",
      "_________________________________________________________________\n",
      " Layer (type)                Output Shape              Param #   \n",
      "=================================================================\n",
      " dense_2 (Dense)             (None, 15)                330       \n",
      "                                                                 \n",
      " dense_3 (Dense)             (None, 9)                 144       \n",
      "                                                                 \n",
      " dense_4 (Dense)             (None, 4)                 40        \n",
      "                                                                 \n",
      "=================================================================\n",
      "Total params: 514\n",
      "Trainable params: 514\n",
      "Non-trainable params: 0\n",
      "_________________________________________________________________\n"
     ]
    }
   ],
   "source": [
    "mod2.summary()"
   ]
  },
  {
   "cell_type": "code",
   "execution_count": 30,
   "metadata": {
    "executionInfo": {
     "elapsed": 262,
     "status": "ok",
     "timestamp": 1671052365702,
     "user": {
      "displayName": "Willian Alecsander Farias Costa",
      "userId": "06668607203888333009"
     },
     "user_tz": 180
    },
    "id": "zORf0bo5ERqJ"
   },
   "outputs": [],
   "source": [
    "mod2.compile(loss='categorical_crossentropy', optimizer='sgd', metrics=['accuracy'])"
   ]
  },
  {
   "cell_type": "code",
   "execution_count": 31,
   "metadata": {
    "colab": {
     "base_uri": "https://localhost:8080/"
    },
    "executionInfo": {
     "elapsed": 11486,
     "status": "ok",
     "timestamp": 1671052380250,
     "user": {
      "displayName": "Willian Alecsander Farias Costa",
      "userId": "06668607203888333009"
     },
     "user_tz": 180
    },
    "id": "wYU_q0REEnAx",
    "outputId": "e5c3a3a5-13d0-4afd-d567-441388b3466c"
   },
   "outputs": [
    {
     "name": "stdout",
     "output_type": "stream",
     "text": [
      "Epoch 1/10\n",
      "450/450 [==============================] - 1s 2ms/step - loss: 1.3422 - accuracy: 0.3856 - val_loss: 1.2561 - val_accuracy: 0.5075\n",
      "Epoch 2/10\n",
      "450/450 [==============================] - 1s 2ms/step - loss: 1.1400 - accuracy: 0.5600 - val_loss: 0.9850 - val_accuracy: 0.6600\n",
      "Epoch 3/10\n",
      "450/450 [==============================] - 1s 2ms/step - loss: 0.7928 - accuracy: 0.7808 - val_loss: 0.6731 - val_accuracy: 0.8175\n",
      "Epoch 4/10\n",
      "450/450 [==============================] - 1s 2ms/step - loss: 0.4991 - accuracy: 0.8772 - val_loss: 0.4618 - val_accuracy: 0.8750\n",
      "Epoch 5/10\n",
      "450/450 [==============================] - 1s 2ms/step - loss: 0.3452 - accuracy: 0.9192 - val_loss: 0.3376 - val_accuracy: 0.9300\n",
      "Epoch 6/10\n",
      "450/450 [==============================] - 1s 2ms/step - loss: 0.2574 - accuracy: 0.9397 - val_loss: 0.2588 - val_accuracy: 0.9325\n",
      "Epoch 7/10\n",
      "450/450 [==============================] - 1s 2ms/step - loss: 0.2043 - accuracy: 0.9525 - val_loss: 0.2149 - val_accuracy: 0.9425\n",
      "Epoch 8/10\n",
      "450/450 [==============================] - 1s 2ms/step - loss: 0.1697 - accuracy: 0.9614 - val_loss: 0.1799 - val_accuracy: 0.9600\n",
      "Epoch 9/10\n",
      "450/450 [==============================] - 1s 2ms/step - loss: 0.1464 - accuracy: 0.9697 - val_loss: 0.1516 - val_accuracy: 0.9700\n",
      "Epoch 10/10\n",
      "450/450 [==============================] - 1s 2ms/step - loss: 0.1293 - accuracy: 0.9753 - val_loss: 0.1363 - val_accuracy: 0.9700\n"
     ]
    },
    {
     "data": {
      "text/plain": [
       "<keras.callbacks.History at 0x7f8cfa956550>"
      ]
     },
     "execution_count": 31,
     "metadata": {},
     "output_type": "execute_result"
    }
   ],
   "source": [
    "# Primeira execução\n",
    "mod2.fit(X_train, y_train, epochs=10, batch_size=8, validation_split=0.1)"
   ]
  },
  {
   "cell_type": "code",
   "execution_count": 32,
   "metadata": {
    "colab": {
     "base_uri": "https://localhost:8080/"
    },
    "executionInfo": {
     "elapsed": 531,
     "status": "ok",
     "timestamp": 1671052386605,
     "user": {
      "displayName": "Willian Alecsander Farias Costa",
      "userId": "06668607203888333009"
     },
     "user_tz": 180
    },
    "id": "YDl6MaNAMWna",
    "outputId": "a5d707d0-0fd6-43ab-ef4b-90ab23e0c5ca"
   },
   "outputs": [
    {
     "name": "stdout",
     "output_type": "stream",
     "text": [
      "125/125 [==============================] - 0s 1ms/step - loss: 0.1237 - accuracy: 0.9770\n",
      "Accuracy: 97.70\n"
     ]
    }
   ],
   "source": [
    "_, accuracy = mod2.evaluate(X_test, y_test, batch_size=8)\n",
    "print('Accuracy: %.2f' % (accuracy*100))"
   ]
  },
  {
   "cell_type": "code",
   "execution_count": 33,
   "metadata": {
    "colab": {
     "base_uri": "https://localhost:8080/"
    },
    "executionInfo": {
     "elapsed": 7910,
     "status": "ok",
     "timestamp": 1671052398249,
     "user": {
      "displayName": "Willian Alecsander Farias Costa",
      "userId": "06668607203888333009"
     },
     "user_tz": 180
    },
    "id": "XrL_2EyrEsEF",
    "outputId": "43f190a3-f483-4748-ba38-4e8e98d651f7"
   },
   "outputs": [
    {
     "name": "stdout",
     "output_type": "stream",
     "text": [
      "Epoch 1/10\n",
      "450/450 [==============================] - 1s 2ms/step - loss: 0.1154 - accuracy: 0.9769 - val_loss: 0.1195 - val_accuracy: 0.9725\n",
      "Epoch 2/10\n",
      "450/450 [==============================] - 1s 2ms/step - loss: 0.1057 - accuracy: 0.9794 - val_loss: 0.1105 - val_accuracy: 0.9750\n",
      "Epoch 3/10\n",
      "450/450 [==============================] - 1s 2ms/step - loss: 0.0975 - accuracy: 0.9808 - val_loss: 0.1019 - val_accuracy: 0.9775\n",
      "Epoch 4/10\n",
      "450/450 [==============================] - 1s 2ms/step - loss: 0.0905 - accuracy: 0.9828 - val_loss: 0.0928 - val_accuracy: 0.9725\n",
      "Epoch 5/10\n",
      "450/450 [==============================] - 1s 2ms/step - loss: 0.0848 - accuracy: 0.9808 - val_loss: 0.0887 - val_accuracy: 0.9775\n",
      "Epoch 6/10\n",
      "450/450 [==============================] - 1s 2ms/step - loss: 0.0795 - accuracy: 0.9833 - val_loss: 0.0829 - val_accuracy: 0.9775\n",
      "Epoch 7/10\n",
      "450/450 [==============================] - 1s 2ms/step - loss: 0.0747 - accuracy: 0.9844 - val_loss: 0.0765 - val_accuracy: 0.9800\n",
      "Epoch 8/10\n",
      "450/450 [==============================] - 1s 2ms/step - loss: 0.0704 - accuracy: 0.9844 - val_loss: 0.0732 - val_accuracy: 0.9850\n",
      "Epoch 9/10\n",
      "450/450 [==============================] - 1s 2ms/step - loss: 0.0663 - accuracy: 0.9856 - val_loss: 0.0713 - val_accuracy: 0.9750\n",
      "Epoch 10/10\n",
      "450/450 [==============================] - 1s 2ms/step - loss: 0.0631 - accuracy: 0.9869 - val_loss: 0.0641 - val_accuracy: 0.9875\n"
     ]
    },
    {
     "data": {
      "text/plain": [
       "<keras.callbacks.History at 0x7f8cfa893d60>"
      ]
     },
     "execution_count": 33,
     "metadata": {},
     "output_type": "execute_result"
    }
   ],
   "source": [
    "# Segunda execução\n",
    "mod2.fit(X_train, y_train, epochs=10, batch_size=8, validation_split=0.1)"
   ]
  },
  {
   "cell_type": "code",
   "execution_count": 34,
   "metadata": {
    "colab": {
     "base_uri": "https://localhost:8080/"
    },
    "executionInfo": {
     "elapsed": 524,
     "status": "ok",
     "timestamp": 1671052403570,
     "user": {
      "displayName": "Willian Alecsander Farias Costa",
      "userId": "06668607203888333009"
     },
     "user_tz": 180
    },
    "id": "EShBA3QwMaEt",
    "outputId": "14654ef1-8a6b-4e1f-b3b1-c10c2addeedd"
   },
   "outputs": [
    {
     "name": "stdout",
     "output_type": "stream",
     "text": [
      "125/125 [==============================] - 0s 1ms/step - loss: 0.0608 - accuracy: 0.9850\n",
      "Accuracy: 98.50\n"
     ]
    }
   ],
   "source": [
    "_, accuracy = mod2.evaluate(X_test, y_test, batch_size=8)\n",
    "print('Accuracy: %.2f' % (accuracy*100))"
   ]
  },
  {
   "cell_type": "code",
   "execution_count": 35,
   "metadata": {
    "colab": {
     "base_uri": "https://localhost:8080/"
    },
    "executionInfo": {
     "elapsed": 10396,
     "status": "ok",
     "timestamp": 1671052416232,
     "user": {
      "displayName": "Willian Alecsander Farias Costa",
      "userId": "06668607203888333009"
     },
     "user_tz": 180
    },
    "id": "xtVInQKYEuHr",
    "outputId": "f4fee8f5-c9dc-4c7b-f431-91986757f8f1"
   },
   "outputs": [
    {
     "name": "stdout",
     "output_type": "stream",
     "text": [
      "Epoch 1/10\n",
      "450/450 [==============================] - 1s 2ms/step - loss: 0.0596 - accuracy: 0.9872 - val_loss: 0.0603 - val_accuracy: 0.9900\n",
      "Epoch 2/10\n",
      "450/450 [==============================] - 1s 2ms/step - loss: 0.0568 - accuracy: 0.9864 - val_loss: 0.0569 - val_accuracy: 0.9900\n",
      "Epoch 3/10\n",
      "450/450 [==============================] - 1s 2ms/step - loss: 0.0534 - accuracy: 0.9908 - val_loss: 0.0557 - val_accuracy: 0.9875\n",
      "Epoch 4/10\n",
      "450/450 [==============================] - 1s 2ms/step - loss: 0.0510 - accuracy: 0.9900 - val_loss: 0.0543 - val_accuracy: 0.9900\n",
      "Epoch 5/10\n",
      "450/450 [==============================] - 1s 2ms/step - loss: 0.0492 - accuracy: 0.9903 - val_loss: 0.0517 - val_accuracy: 0.9900\n",
      "Epoch 6/10\n",
      "450/450 [==============================] - 1s 2ms/step - loss: 0.0475 - accuracy: 0.9903 - val_loss: 0.0491 - val_accuracy: 0.9900\n",
      "Epoch 7/10\n",
      "450/450 [==============================] - 1s 2ms/step - loss: 0.0453 - accuracy: 0.9911 - val_loss: 0.0467 - val_accuracy: 0.9900\n",
      "Epoch 8/10\n",
      "450/450 [==============================] - 1s 2ms/step - loss: 0.0436 - accuracy: 0.9925 - val_loss: 0.0467 - val_accuracy: 0.9900\n",
      "Epoch 9/10\n",
      "450/450 [==============================] - 1s 2ms/step - loss: 0.0420 - accuracy: 0.9911 - val_loss: 0.0450 - val_accuracy: 0.9925\n",
      "Epoch 10/10\n",
      "450/450 [==============================] - 1s 2ms/step - loss: 0.0402 - accuracy: 0.9922 - val_loss: 0.0448 - val_accuracy: 0.9875\n"
     ]
    },
    {
     "data": {
      "text/plain": [
       "<keras.callbacks.History at 0x7f8cfa87bf70>"
      ]
     },
     "execution_count": 35,
     "metadata": {},
     "output_type": "execute_result"
    }
   ],
   "source": [
    "# Terceira execução\n",
    "mod2.fit(X_train, y_train, epochs=10, batch_size=8, validation_split=0.1)"
   ]
  },
  {
   "cell_type": "code",
   "execution_count": 36,
   "metadata": {
    "colab": {
     "base_uri": "https://localhost:8080/"
    },
    "executionInfo": {
     "elapsed": 271,
     "status": "ok",
     "timestamp": 1671052418988,
     "user": {
      "displayName": "Willian Alecsander Farias Costa",
      "userId": "06668607203888333009"
     },
     "user_tz": 180
    },
    "id": "HD-D59t3HLfe",
    "outputId": "c80c7475-dd76-4ceb-cc07-882506e9f561"
   },
   "outputs": [
    {
     "name": "stdout",
     "output_type": "stream",
     "text": [
      "125/125 [==============================] - 0s 1ms/step - loss: 0.0405 - accuracy: 0.9880\n",
      "Accuracy: 98.80\n"
     ]
    }
   ],
   "source": [
    "_, accuracy = mod2.evaluate(X_test, y_test, batch_size=8)\n",
    "print('Accuracy: %.2f' % (accuracy*100))"
   ]
  },
  {
   "cell_type": "markdown",
   "metadata": {
    "id": "EOeYdNMAFOas"
   },
   "source": [
    "Média da acurácia nas três execuções: 98,33%"
   ]
  },
  {
   "cell_type": "markdown",
   "metadata": {
    "id": "4QlKDeekFV2o"
   },
   "source": [
    "Desvio padrão da acurácia nas três execuções: 0,57"
   ]
  },
  {
   "cell_type": "markdown",
   "metadata": {
    "id": "5DNKKtSJHolo"
   },
   "source": [
    "### Experimento 3"
   ]
  },
  {
   "cell_type": "code",
   "execution_count": 37,
   "metadata": {
    "executionInfo": {
     "elapsed": 340,
     "status": "ok",
     "timestamp": 1671052518402,
     "user": {
      "displayName": "Willian Alecsander Farias Costa",
      "userId": "06668607203888333009"
     },
     "user_tz": 180
    },
    "id": "5QrS2vxWHtrr"
   },
   "outputs": [],
   "source": [
    "mod3 = keras.Sequential(name=\"FirstDeepModel\")\n",
    "mod3.add(keras.Input(shape=(21,))) \n",
    "mod3.add(layers.Dense(16, activation=\"relu\"))\n",
    "mod3.add(layers.Dense(12, activation=\"relu\"))\n",
    "mod3.add(layers.Dense(8, activation=\"relu\"))\n",
    "mod3.add(layers.Dense(4, activation=\"softmax\"))"
   ]
  },
  {
   "cell_type": "code",
   "execution_count": 38,
   "metadata": {
    "colab": {
     "base_uri": "https://localhost:8080/"
    },
    "executionInfo": {
     "elapsed": 299,
     "status": "ok",
     "timestamp": 1671052520611,
     "user": {
      "displayName": "Willian Alecsander Farias Costa",
      "userId": "06668607203888333009"
     },
     "user_tz": 180
    },
    "id": "8n1nsjRAIkIC",
    "outputId": "893f6894-a42c-42a1-dd05-c268a72d3e8a"
   },
   "outputs": [
    {
     "name": "stdout",
     "output_type": "stream",
     "text": [
      "Model: \"FirstDeepModel\"\n",
      "_________________________________________________________________\n",
      " Layer (type)                Output Shape              Param #   \n",
      "=================================================================\n",
      " dense_5 (Dense)             (None, 16)                352       \n",
      "                                                                 \n",
      " dense_6 (Dense)             (None, 12)                204       \n",
      "                                                                 \n",
      " dense_7 (Dense)             (None, 8)                 104       \n",
      "                                                                 \n",
      " dense_8 (Dense)             (None, 4)                 36        \n",
      "                                                                 \n",
      "=================================================================\n",
      "Total params: 696\n",
      "Trainable params: 696\n",
      "Non-trainable params: 0\n",
      "_________________________________________________________________\n"
     ]
    }
   ],
   "source": [
    "mod3.summary()"
   ]
  },
  {
   "cell_type": "code",
   "execution_count": 39,
   "metadata": {
    "executionInfo": {
     "elapsed": 314,
     "status": "ok",
     "timestamp": 1671052527430,
     "user": {
      "displayName": "Willian Alecsander Farias Costa",
      "userId": "06668607203888333009"
     },
     "user_tz": 180
    },
    "id": "3Ani81HbI1ZD"
   },
   "outputs": [],
   "source": [
    "mod3.compile(loss='categorical_crossentropy', optimizer='sgd', metrics=['accuracy'])"
   ]
  },
  {
   "cell_type": "code",
   "execution_count": 40,
   "metadata": {
    "colab": {
     "base_uri": "https://localhost:8080/"
    },
    "executionInfo": {
     "elapsed": 10858,
     "status": "ok",
     "timestamp": 1671052539865,
     "user": {
      "displayName": "Willian Alecsander Farias Costa",
      "userId": "06668607203888333009"
     },
     "user_tz": 180
    },
    "id": "hh3EvZR_I5Ws",
    "outputId": "0a90e671-df4d-468c-9b77-630ffbe01221"
   },
   "outputs": [
    {
     "name": "stdout",
     "output_type": "stream",
     "text": [
      "Epoch 1/10\n",
      "450/450 [==============================] - 1s 2ms/step - loss: 1.3270 - accuracy: 0.3736 - val_loss: 1.2398 - val_accuracy: 0.4025\n",
      "Epoch 2/10\n",
      "450/450 [==============================] - 1s 2ms/step - loss: 1.0213 - accuracy: 0.5556 - val_loss: 0.8580 - val_accuracy: 0.6475\n",
      "Epoch 3/10\n",
      "450/450 [==============================] - 2s 4ms/step - loss: 0.6426 - accuracy: 0.7661 - val_loss: 0.5116 - val_accuracy: 0.8425\n",
      "Epoch 4/10\n",
      "450/450 [==============================] - 1s 2ms/step - loss: 0.3591 - accuracy: 0.8967 - val_loss: 0.3170 - val_accuracy: 0.8700\n",
      "Epoch 5/10\n",
      "450/450 [==============================] - 1s 2ms/step - loss: 0.2231 - accuracy: 0.9308 - val_loss: 0.2050 - val_accuracy: 0.9500\n",
      "Epoch 6/10\n",
      "450/450 [==============================] - 1s 2ms/step - loss: 0.1677 - accuracy: 0.9500 - val_loss: 0.1607 - val_accuracy: 0.9500\n",
      "Epoch 7/10\n",
      "450/450 [==============================] - 1s 2ms/step - loss: 0.1387 - accuracy: 0.9589 - val_loss: 0.1335 - val_accuracy: 0.9500\n",
      "Epoch 8/10\n",
      "450/450 [==============================] - 1s 2ms/step - loss: 0.1183 - accuracy: 0.9681 - val_loss: 0.1068 - val_accuracy: 0.9725\n",
      "Epoch 9/10\n",
      "450/450 [==============================] - 1s 2ms/step - loss: 0.1034 - accuracy: 0.9742 - val_loss: 0.1189 - val_accuracy: 0.9425\n",
      "Epoch 10/10\n",
      "450/450 [==============================] - 1s 2ms/step - loss: 0.0897 - accuracy: 0.9778 - val_loss: 0.0862 - val_accuracy: 0.9775\n"
     ]
    },
    {
     "data": {
      "text/plain": [
       "<keras.callbacks.History at 0x7f8cfa864a00>"
      ]
     },
     "execution_count": 40,
     "metadata": {},
     "output_type": "execute_result"
    }
   ],
   "source": [
    "# Primeira execução\n",
    "mod3.fit(X_train, y_train, epochs=10, batch_size=8, validation_split=0.1)"
   ]
  },
  {
   "cell_type": "code",
   "execution_count": 41,
   "metadata": {
    "colab": {
     "base_uri": "https://localhost:8080/"
    },
    "executionInfo": {
     "elapsed": 635,
     "status": "ok",
     "timestamp": 1671052545572,
     "user": {
      "displayName": "Willian Alecsander Farias Costa",
      "userId": "06668607203888333009"
     },
     "user_tz": 180
    },
    "id": "e0kTfCcvMyZo",
    "outputId": "9e9cde43-3f7a-491d-f090-107553d25ccc"
   },
   "outputs": [
    {
     "name": "stdout",
     "output_type": "stream",
     "text": [
      "125/125 [==============================] - 0s 1ms/step - loss: 0.0899 - accuracy: 0.9750\n",
      "Accuracy: 97.50\n"
     ]
    }
   ],
   "source": [
    "_, accuracy = mod3.evaluate(X_test, y_test, batch_size=8)\n",
    "print('Accuracy: %.2f' % (accuracy*100))"
   ]
  },
  {
   "cell_type": "code",
   "execution_count": 42,
   "metadata": {
    "colab": {
     "base_uri": "https://localhost:8080/"
    },
    "executionInfo": {
     "elapsed": 8243,
     "status": "ok",
     "timestamp": 1671052556519,
     "user": {
      "displayName": "Willian Alecsander Farias Costa",
      "userId": "06668607203888333009"
     },
     "user_tz": 180
    },
    "id": "hA5vrHh7I-1c",
    "outputId": "9582e79e-d47d-4ad6-8f7f-179a6ec160f7"
   },
   "outputs": [
    {
     "name": "stdout",
     "output_type": "stream",
     "text": [
      "Epoch 1/10\n",
      "450/450 [==============================] - 1s 2ms/step - loss: 0.0807 - accuracy: 0.9836 - val_loss: 0.0732 - val_accuracy: 0.9850\n",
      "Epoch 2/10\n",
      "450/450 [==============================] - 1s 2ms/step - loss: 0.0697 - accuracy: 0.9847 - val_loss: 0.0672 - val_accuracy: 0.9875\n",
      "Epoch 3/10\n",
      "450/450 [==============================] - 1s 2ms/step - loss: 0.0651 - accuracy: 0.9883 - val_loss: 0.0550 - val_accuracy: 0.9925\n",
      "Epoch 4/10\n",
      "450/450 [==============================] - 1s 2ms/step - loss: 0.0582 - accuracy: 0.9894 - val_loss: 0.0508 - val_accuracy: 0.9900\n",
      "Epoch 5/10\n",
      "450/450 [==============================] - 1s 2ms/step - loss: 0.0562 - accuracy: 0.9883 - val_loss: 0.0547 - val_accuracy: 0.9875\n",
      "Epoch 6/10\n",
      "450/450 [==============================] - 1s 2ms/step - loss: 0.0525 - accuracy: 0.9878 - val_loss: 0.0604 - val_accuracy: 0.9875\n",
      "Epoch 7/10\n",
      "450/450 [==============================] - 1s 2ms/step - loss: 0.0487 - accuracy: 0.9892 - val_loss: 0.0448 - val_accuracy: 0.9875\n",
      "Epoch 8/10\n",
      "450/450 [==============================] - 1s 2ms/step - loss: 0.0450 - accuracy: 0.9928 - val_loss: 0.0405 - val_accuracy: 0.9925\n",
      "Epoch 9/10\n",
      "450/450 [==============================] - 1s 2ms/step - loss: 0.0412 - accuracy: 0.9900 - val_loss: 0.0359 - val_accuracy: 0.9950\n",
      "Epoch 10/10\n",
      "450/450 [==============================] - 1s 2ms/step - loss: 0.0414 - accuracy: 0.9908 - val_loss: 0.0324 - val_accuracy: 0.9950\n"
     ]
    },
    {
     "data": {
      "text/plain": [
       "<keras.callbacks.History at 0x7f8cfa748d30>"
      ]
     },
     "execution_count": 42,
     "metadata": {},
     "output_type": "execute_result"
    }
   ],
   "source": [
    "# Segunda execução\n",
    "mod3.fit(X_train, y_train, epochs=10, batch_size=8, validation_split=0.1)"
   ]
  },
  {
   "cell_type": "code",
   "execution_count": 43,
   "metadata": {
    "colab": {
     "base_uri": "https://localhost:8080/"
    },
    "executionInfo": {
     "elapsed": 626,
     "status": "ok",
     "timestamp": 1671052561631,
     "user": {
      "displayName": "Willian Alecsander Farias Costa",
      "userId": "06668607203888333009"
     },
     "user_tz": 180
    },
    "id": "BDw5rilcMzk5",
    "outputId": "52eb6fac-5a4d-46bd-946d-5d666e5b9b17"
   },
   "outputs": [
    {
     "name": "stdout",
     "output_type": "stream",
     "text": [
      "125/125 [==============================] - 0s 1ms/step - loss: 0.0346 - accuracy: 0.9950\n",
      "Accuracy: 99.50\n"
     ]
    }
   ],
   "source": [
    "_, accuracy = mod3.evaluate(X_test, y_test, batch_size=8)\n",
    "print('Accuracy: %.2f' % (accuracy*100))"
   ]
  },
  {
   "cell_type": "code",
   "execution_count": 44,
   "metadata": {
    "colab": {
     "base_uri": "https://localhost:8080/"
    },
    "executionInfo": {
     "elapsed": 8650,
     "status": "ok",
     "timestamp": 1671052572291,
     "user": {
      "displayName": "Willian Alecsander Farias Costa",
      "userId": "06668607203888333009"
     },
     "user_tz": 180
    },
    "id": "h0Mpw4f5JBK-",
    "outputId": "f0b7820c-bc87-4f32-ca93-43d821d39ffd"
   },
   "outputs": [
    {
     "name": "stdout",
     "output_type": "stream",
     "text": [
      "Epoch 1/10\n",
      "450/450 [==============================] - 1s 2ms/step - loss: 0.0386 - accuracy: 0.9928 - val_loss: 0.0319 - val_accuracy: 0.9925\n",
      "Epoch 2/10\n",
      "450/450 [==============================] - 1s 2ms/step - loss: 0.0364 - accuracy: 0.9944 - val_loss: 0.0323 - val_accuracy: 0.9950\n",
      "Epoch 3/10\n",
      "450/450 [==============================] - 1s 2ms/step - loss: 0.0342 - accuracy: 0.9939 - val_loss: 0.0316 - val_accuracy: 0.9900\n",
      "Epoch 4/10\n",
      "450/450 [==============================] - 1s 2ms/step - loss: 0.0338 - accuracy: 0.9933 - val_loss: 0.0283 - val_accuracy: 0.9925\n",
      "Epoch 5/10\n",
      "450/450 [==============================] - 1s 2ms/step - loss: 0.0334 - accuracy: 0.9933 - val_loss: 0.0271 - val_accuracy: 0.9950\n",
      "Epoch 6/10\n",
      "450/450 [==============================] - 1s 2ms/step - loss: 0.0308 - accuracy: 0.9947 - val_loss: 0.0243 - val_accuracy: 0.9950\n",
      "Epoch 7/10\n",
      "450/450 [==============================] - 1s 2ms/step - loss: 0.0310 - accuracy: 0.9950 - val_loss: 0.0255 - val_accuracy: 0.9925\n",
      "Epoch 8/10\n",
      "450/450 [==============================] - 1s 2ms/step - loss: 0.0287 - accuracy: 0.9956 - val_loss: 0.0263 - val_accuracy: 0.9950\n",
      "Epoch 9/10\n",
      "450/450 [==============================] - 1s 2ms/step - loss: 0.0262 - accuracy: 0.9961 - val_loss: 0.0217 - val_accuracy: 0.9975\n",
      "Epoch 10/10\n",
      "450/450 [==============================] - 1s 2ms/step - loss: 0.0267 - accuracy: 0.9956 - val_loss: 0.0217 - val_accuracy: 0.9950\n"
     ]
    },
    {
     "data": {
      "text/plain": [
       "<keras.callbacks.History at 0x7f8cfa780c70>"
      ]
     },
     "execution_count": 44,
     "metadata": {},
     "output_type": "execute_result"
    }
   ],
   "source": [
    "# Terceira execução\n",
    "mod3.fit(X_train, y_train, epochs=10, batch_size=8, validation_split=0.1)"
   ]
  },
  {
   "cell_type": "code",
   "execution_count": 45,
   "metadata": {
    "colab": {
     "base_uri": "https://localhost:8080/"
    },
    "executionInfo": {
     "elapsed": 263,
     "status": "ok",
     "timestamp": 1671052584071,
     "user": {
      "displayName": "Willian Alecsander Farias Costa",
      "userId": "06668607203888333009"
     },
     "user_tz": 180
    },
    "id": "LTB4R5cILJZ8",
    "outputId": "3b391eec-254a-4859-a671-6ae929f8f105"
   },
   "outputs": [
    {
     "name": "stdout",
     "output_type": "stream",
     "text": [
      "125/125 [==============================] - 0s 1ms/step - loss: 0.0254 - accuracy: 0.9970\n",
      "Accuracy: 99.70\n"
     ]
    }
   ],
   "source": [
    "_, accuracy = mod3.evaluate(X_test, y_test, batch_size=8)\n",
    "print('Accuracy: %.2f' % (accuracy*100))"
   ]
  },
  {
   "cell_type": "markdown",
   "metadata": {
    "id": "vOlh1dXUGSKI"
   },
   "source": [
    "Média da acurácia nas três execuções: 98,9%"
   ]
  },
  {
   "cell_type": "markdown",
   "metadata": {
    "id": "FFXDXAw5GX6S"
   },
   "source": [
    "Desvio padrão da acurácia nas três execuções: 1,21"
   ]
  },
  {
   "cell_type": "markdown",
   "metadata": {
    "id": "BPCq3w4xGf2X"
   },
   "source": [
    "## Avaliação dos resultados"
   ]
  },
  {
   "cell_type": "markdown",
   "metadata": {
    "id": "OBPeTZZXcmhG"
   },
   "source": [
    "Avaliando os resultados da acurácia nos três experimentos, pode-se perceber que o experimento que teve a média de acurácia mais alta foi o que teve a arquitetura de rede mais complexa com três camadas de neurônios, embora seja importante citar que a média de acurácia na predição para os três experimentos foi maior que 85%."
   ]
  },
  {
   "cell_type": "markdown",
   "metadata": {
    "id": "UBMb61OVdfi8"
   },
   "source": [
    "O tempo de treino e de predição não variou nos 3 experimentos, com um tempo de 1 segundo e 2 milissegundos por época em cada execução de treino e 1 milissegundo por cada execução na predição."
   ]
  },
  {
   "cell_type": "markdown",
   "metadata": {
    "id": "LqOtWZ9ggmQt"
   },
   "source": [
    "Quanto ao número de parâmetros treináveis, o primeiro experimento teve uma rede com 342 parâmetros treináveis (286 da camada escondida e 56 da camada final). O segundo experimento teve 514 parâmetros treináveis (330 da primeira camada escondida, 144 da segunda camada escondida e 40 da camada de saída). Por fim, o terceiro experimento teve uma rede com 696 parâmetros treináveis (352 na primeira camada escondida, 204 na segunda camada escondida, 104 na terceira camada escondida e 36 na camada de saída)."
   ]
  }
 ],
 "metadata": {
  "colab": {
   "authorship_tag": "ABX9TyMl8RoMhcTVO+It2r4iSf+P",
   "provenance": [],
   "toc_visible": true
  },
  "kernelspec": {
   "display_name": "Python 3",
   "language": "python",
   "name": "python3"
  },
  "language_info": {
   "codemirror_mode": {
    "name": "ipython",
    "version": 3
   },
   "file_extension": ".py",
   "mimetype": "text/x-python",
   "name": "python",
   "nbconvert_exporter": "python",
   "pygments_lexer": "ipython3",
   "version": "3.8.5"
  }
 },
 "nbformat": 4,
 "nbformat_minor": 1
}
